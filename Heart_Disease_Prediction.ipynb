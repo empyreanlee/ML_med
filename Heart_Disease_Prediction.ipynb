{
  "nbformat": 4,
  "nbformat_minor": 0,
  "metadata": {
    "colab": {
      "provenance": [],
      "authorship_tag": "ABX9TyPX4BJnw0ktUunyG1dZTbOk",
      "include_colab_link": true
    },
    "kernelspec": {
      "name": "python3",
      "display_name": "Python 3"
    },
    "language_info": {
      "name": "python"
    }
  },
  "cells": [
    {
      "cell_type": "markdown",
      "metadata": {
        "id": "view-in-github",
        "colab_type": "text"
      },
      "source": [
        "<a href=\"https://colab.research.google.com/github/empyreanlee/ML_med/blob/update/Heart_Disease_Prediction.ipynb\" target=\"_parent\"><img src=\"https://colab.research.google.com/assets/colab-badge.svg\" alt=\"Open In Colab\"/></a>"
      ]
    },
    {
      "cell_type": "code",
      "execution_count": null,
      "metadata": {
        "id": "lpHyKP2w3MvJ"
      },
      "outputs": [],
      "source": [
        "import pandas as pd\n",
        "import numpy as np\n",
        "import seaborn as sns\n",
        "import tensorflow as tf\n",
        "from sklearn.preprocessing import StandardScaler\n",
        "#from imblearn.over_sampling import RandomOverSampler\n",
        "from sklearn.impute import SimpleImputer\n",
        "from sklearn.metrics import confusion_matrix\n",
        "from sklearn.metrics import ConfusionMatrixDisplay\n",
        "from sklearn.model_selection import GridSearchCV"
      ]
    },
    {
      "cell_type": "code",
      "source": [
        "dataset_cols = [\"age\", \"sex\", \"cp\", \"trestbps\", \"chol\", \"fbs\", \"restecg\", \"thalach\", \"exang\", \"oldpeak\", \"slope\", \"ca\", \"thal\", \"num\"]\n",
        "df = pd.read_csv(\"processed.cleveland.data\", header=None)"
      ],
      "metadata": {
        "id": "L434h6LJ3d2Z"
      },
      "execution_count": null,
      "outputs": []
    },
    {
      "cell_type": "code",
      "source": [
        "df.columns = dataset_cols\n",
        "df.head()"
      ],
      "metadata": {
        "id": "KM6fVmBc3j7a"
      },
      "execution_count": null,
      "outputs": []
    },
    {
      "cell_type": "code",
      "source": [
        "df.dtypes"
      ],
      "metadata": {
        "id": "WkhB3Cyi3mzh"
      },
      "execution_count": null,
      "outputs": []
    },
    {
      "cell_type": "markdown",
      "source": [
        "Identify columms with missing values"
      ],
      "metadata": {
        "id": "VshUUpZQGckC"
      }
    },
    {
      "cell_type": "code",
      "source": [
        "df['ca'].unique()"
      ],
      "metadata": {
        "id": "Zrhdnya53swv"
      },
      "execution_count": null,
      "outputs": []
    },
    {
      "cell_type": "code",
      "source": [
        "df['thal'].unique()"
      ],
      "metadata": {
        "id": "WVh2FyoC3wIJ"
      },
      "execution_count": null,
      "outputs": []
    },
    {
      "cell_type": "code",
      "source": [
        "#uncomment to find number of missing values in the two coluns\n",
        "#len(df.loc[df['ca'] == '?']) | len(df.loc[df['thal'] == '?'])\n",
        "#locate the missing values\n",
        "df.loc[(df['ca'] == '?') | (df['thal'] == '?')]"
      ],
      "metadata": {
        "id": "9M0CoU8S3ynx"
      },
      "execution_count": null,
      "outputs": []
    },
    {
      "cell_type": "code",
      "source": [
        "# as there are only 6 rows , we can remove them\n",
        "df_clear = df.loc[(df['ca'] != '?') & (df['thal'] != '?')]"
      ],
      "metadata": {
        "id": "UXdviKZG3zfo"
      },
      "execution_count": null,
      "outputs": []
    },
    {
      "cell_type": "code",
      "source": [
        "len(df_clear)"
      ],
      "metadata": {
        "id": "UdwmOQ_V32DY"
      },
      "execution_count": null,
      "outputs": []
    },
    {
      "cell_type": "code",
      "source": [
        "df_clear.head()"
      ],
      "metadata": {
        "id": "1i4SgCMi37So"
      },
      "execution_count": null,
      "outputs": []
    },
    {
      "cell_type": "code",
      "source": [],
      "metadata": {
        "id": "GOlRRsAIMdaO"
      },
      "execution_count": null,
      "outputs": []
    },
    {
      "cell_type": "markdown",
      "source": [
        "Categorical values in slope, cp, thal, resceg.. need to be inspected as they are likely to have more than two categories."
      ],
      "metadata": {
        "id": "8FExxlv14cSv"
      }
    },
    {
      "cell_type": "code",
      "source": [
        "df_clear['thal'].unique()"
      ],
      "metadata": {
        "id": "_BnxceRh38Uf"
      },
      "execution_count": null,
      "outputs": []
    },
    {
      "cell_type": "markdown",
      "source": [
        "One-hot encoding is applied to convert a column of categorical values into multiple column of binary values"
      ],
      "metadata": {
        "id": "4dyiDI66HEs9"
      }
    },
    {
      "cell_type": "markdown",
      "source": [
        "I`ll use pandas get_dummies to do encoding, chest pain has 4 categories rep by 1-4, 1: typical angina 2: atypical angina 3: non-anginal pain 4:asymptomatic. get_dummies separates cp into 4 cp's where 1 rep the patient has the specified type and 0 doesn't.   "
      ],
      "metadata": {
        "id": "9t9GGTipHGED"
      }
    },
    {
      "cell_type": "code",
      "source": [
        "pd.get_dummies(df_clear, columns=['cp']).head()"
      ],
      "metadata": {
        "id": "PRkfuQXF4dcg"
      },
      "execution_count": null,
      "outputs": []
    },
    {
      "cell_type": "code",
      "source": [
        "X = pd.get_dummies(df_clear, columns=['cp','restecg','slope','thal',])\n",
        "X.head()"
      ],
      "metadata": {
        "id": "yuuycef44gwZ"
      },
      "execution_count": null,
      "outputs": []
    },
    {
      "cell_type": "code",
      "source": [
        "X['num'].unique()"
      ],
      "metadata": {
        "id": "kMqryInx7MyG"
      },
      "execution_count": null,
      "outputs": []
    },
    {
      "cell_type": "markdown",
      "source": [
        "For the target i.e \"num\" , i've made any value > 0 to be 1 , to have binary 0,1"
      ],
      "metadata": {
        "id": "Pi63WVUAUHQA"
      }
    },
    {
      "cell_type": "code",
      "source": [
        "num_not_zero = X['num'] > 0\n",
        "X.loc[num_not_zero, \"num\"] = 1\n",
        "X['num'].unique()"
      ],
      "metadata": {
        "id": "WTZP3Uqk91Eu"
      },
      "execution_count": null,
      "outputs": []
    },
    {
      "cell_type": "markdown",
      "source": [
        "Moving the column \"num\" to the last column position [-1]"
      ],
      "metadata": {
        "id": "sbmxXaA4HhFF"
      }
    },
    {
      "cell_type": "code",
      "source": [
        "column_move = 'num'\n",
        "column = X.pop(column_move)\n",
        "X.insert(len(X.columns), column.name, column)\n",
        "X.head()"
      ],
      "metadata": {
        "id": "T4gtyCRQ7ff1"
      },
      "execution_count": null,
      "outputs": []
    },
    {
      "cell_type": "markdown",
      "source": [
        " Some columns seem to contain non-numeric values. We handle this by imputing them with appropriate values"
      ],
      "metadata": {
        "id": "fBkITk6lH5xk"
      }
    },
    {
      "cell_type": "code",
      "source": [
        "imputer = SimpleImputer(strategy='mean')\n",
        "## Apply imputation to the DataFrame\n",
        "X = pd.DataFrame(imputer.fit_transform(X), columns=X.columns)"
      ],
      "metadata": {
        "id": "ae3Kv0-lDU7K"
      },
      "execution_count": null,
      "outputs": []
    },
    {
      "cell_type": "code",
      "source": [
        "X.dtypes"
      ],
      "metadata": {
        "id": "jvh6ZL75ONRL"
      },
      "execution_count": null,
      "outputs": []
    },
    {
      "cell_type": "code",
      "source": [
        "train, valid, test = np.split(X.sample(frac=1), [int(0.6*len(X)), int(0.8*len(X))])"
      ],
      "metadata": {
        "id": "WBmZifwbEE0w"
      },
      "execution_count": null,
      "outputs": []
    },
    {
      "cell_type": "code",
      "source": [
        "def scale_dataset(dataframe):\n",
        "  dataframe = pd.DataFrame(dataframe)\n",
        "  X = dataframe[dataframe.columns[:-1]].values\n",
        "  y = dataframe[dataframe.columns[-1]].values\n",
        "\n",
        "  scaler = StandardScaler()\n",
        "  X = scaler.fit_transform(X)\n",
        "\n",
        "  data = np.hstack((X, np.reshape(y, (-1, 1))))\n",
        "\n",
        "  return data, X, y"
      ],
      "metadata": {
        "id": "wvRY41_c9NQe"
      },
      "execution_count": null,
      "outputs": []
    },
    {
      "cell_type": "code",
      "source": [
        "train, X_train, y_train = scale_dataset(train)\n",
        "valid, X_valid, y_valid = scale_dataset(valid)\n",
        "test, X_test, y_test = scale_dataset(test)"
      ],
      "metadata": {
        "id": "uPNEHI7wG1ka"
      },
      "execution_count": null,
      "outputs": []
    },
    {
      "cell_type": "markdown",
      "source": [
        "##Log Reg"
      ],
      "metadata": {
        "id": "B-a3o3b6UXE4"
      }
    },
    {
      "cell_type": "code",
      "source": [
        "from sklearn.metrics import classification_report\n",
        "from sklearn.linear_model import LogisticRegression"
      ],
      "metadata": {
        "id": "Mn6FXWUnAqXK"
      },
      "execution_count": null,
      "outputs": []
    },
    {
      "cell_type": "code",
      "source": [
        "log_model = LogisticRegression()\n",
        "log_model = log_model.fit(X_train, y_train)"
      ],
      "metadata": {
        "id": "y2HQcibfUuDp"
      },
      "execution_count": null,
      "outputs": []
    },
    {
      "cell_type": "code",
      "source": [
        "y_pred = log_model.predict(X_test)\n",
        "print(classification_report(y_test, y_pred))"
      ],
      "metadata": {
        "id": "nkm2Fdoijaf2"
      },
      "execution_count": null,
      "outputs": []
    },
    {
      "cell_type": "code",
      "source": [
        "ConfusionMatrixDisplay.from_predictions(y_test, y_pred, display_labels=[\"Does not have HD\", \"Has HD\"])"
      ],
      "metadata": {
        "id": "yVWuKuG_JgHO"
      },
      "execution_count": null,
      "outputs": []
    },
    {
      "cell_type": "markdown",
      "source": [
        "#Support Vector Machine"
      ],
      "metadata": {
        "id": "gcxgV4cIaS6X"
      }
    },
    {
      "cell_type": "code",
      "source": [
        "from sklearn.svm import SVC"
      ],
      "metadata": {
        "id": "7ZR1A_ysThLP"
      },
      "execution_count": null,
      "outputs": []
    },
    {
      "cell_type": "code",
      "source": [
        "svm_model = SVC(random_state=42)\n",
        "svm_model.fit(X_train, y_train)"
      ],
      "metadata": {
        "id": "iUgoDYfpaQyY"
      },
      "execution_count": null,
      "outputs": []
    },
    {
      "cell_type": "code",
      "source": [
        "y_pred = svm_model.predict(X_test)\n",
        "print(classification_report(y_test, y_pred))"
      ],
      "metadata": {
        "id": "mE-P8vosa5QQ"
      },
      "execution_count": null,
      "outputs": []
    },
    {
      "cell_type": "markdown",
      "source": [
        "Optimisation"
      ],
      "metadata": {
        "id": "BxwebFLHn38f"
      }
    },
    {
      "cell_type": "code",
      "source": [
        "param_grid = {\n",
        "    'C' : [0, 1, 10, 100],\n",
        "    'gamma' : [1, 0.1, 0.01, 0.001 ],\n",
        "    'kernel' : ['rbf']\n",
        "}\n",
        "\n",
        "svm = SVC(random_state=42)\n",
        "\n",
        "grid_search = GridSearchCV(estimator = svm, param_grid = param_grid, cv = 5, scoring = 'accuracy')\n",
        "\n",
        "grid_search.fit(X_train, y_train)\n",
        "\n",
        "best_params = grid_search.best_params_\n",
        "print(\"Best hyperparameters:\", best_params)\n",
        "\n"
      ],
      "metadata": {
        "id": "jbDuj1oAmaw6"
      },
      "execution_count": null,
      "outputs": []
    },
    {
      "cell_type": "code",
      "source": [
        "svm_model = SVC(random_state=42, C=1, gamma=0.01)\n",
        "svm_model.fit(X_train, y_train)"
      ],
      "metadata": {
        "id": "Cmfu0GraS2Bl"
      },
      "execution_count": null,
      "outputs": []
    },
    {
      "cell_type": "code",
      "source": [
        "y_pred = svm_model.predict(X_test)\n",
        "print(classification_report(y_test, y_pred))"
      ],
      "metadata": {
        "collapsed": true,
        "id": "gMymE2kLT1wl"
      },
      "execution_count": null,
      "outputs": []
    }
  ]
}